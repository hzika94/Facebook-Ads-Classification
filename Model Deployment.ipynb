{
 "cells": [
  {
   "cell_type": "code",
   "execution_count": 1,
   "id": "cbe37a9a",
   "metadata": {},
   "outputs": [],
   "source": [
    "import pandas as pd\n",
    "import numpy as np\n",
    "import matplotlib.pyplot as plt\n",
    "%matplotlib inline\n",
    "\n",
    "import seaborn as sns\n",
    "sns.set(style ='whitegrid')\n",
    "pd.set_option('display.max_columns',None)"
   ]
  },
  {
   "cell_type": "code",
   "execution_count": 2,
   "id": "b8851558",
   "metadata": {},
   "outputs": [],
   "source": [
    "import joblib\n",
    "from tensorflow.keras.models import load_model\n",
    "from PIL import Image\n",
    "import numpy as np\n",
    "import cv2\n"
   ]
  },
  {
   "cell_type": "code",
   "execution_count": 3,
   "id": "913620d5",
   "metadata": {},
   "outputs": [],
   "source": [
    "import pickle\n",
    "with open(\"AdsClassificationModel.pkl\", \"rb\") as f:\n",
    "    loaded_model = pickle.load(f)"
   ]
  },
  {
   "cell_type": "code",
   "execution_count": 4,
   "id": "78e95602",
   "metadata": {},
   "outputs": [],
   "source": [
    "# Create prediction function\n",
    "def pred_img(img_path):\n",
    "    # Preprocess the image\n",
    "    image = Image.open(img_path)\n",
    "    image = image.resize((224, 224))\n",
    "    print(image)\n",
    "    image = np.array(image) / 255.0\n",
    "    image = np.expand_dims(image, axis=0)  # Add batch dimension\n",
    "\n",
    "    # Pass the image through the model\n",
    "    pred = loaded_model.predict(image)\n",
    "\n",
    "    return pred"
   ]
  },
  {
   "cell_type": "code",
   "execution_count": 5,
   "id": "f0c88ad5",
   "metadata": {},
   "outputs": [
    {
     "name": "stdout",
     "output_type": "stream",
     "text": [
      "<PIL.Image.Image image mode=RGB size=224x224 at 0x24DC7973610>\n",
      "1/1 [==============================] - 1s 532ms/step\n",
      "Predicted class: Success\n",
      "Confidence: 0.869990885257721\n"
     ]
    }
   ],
   "source": [
    "# Test the model\n",
    "img_path = '10000000_303749348833111_2436487150534607562_n.jpg'\n",
    "predictions = pred_img(img_path)\n",
    "class_labels = ['Success', 'Fail']  # Classes names\n",
    "predicted_class_index = np.argmax(predictions[0])   # get predicted class index\n",
    "predicted_class_label = class_labels[predicted_class_index]   # get predicted class name\n",
    "confidence = predictions[0][predicted_class_index]   # get predicted class accuracy\n",
    "\n",
    "print(f\"Predicted class: {predicted_class_label}\")\n",
    "print(f\"Confidence: {confidence}\")"
   ]
  },
  {
   "cell_type": "code",
   "execution_count": 7,
   "id": "fe28fe34",
   "metadata": {},
   "outputs": [
    {
     "name": "stdout",
     "output_type": "stream",
     "text": [
      "Overwriting app.py\n"
     ]
    }
   ],
   "source": [
    "%%writefile app.py\n",
    "import streamlit as st\n",
    "import tensorflow as tf\n",
    "import streamlit as st\n",
    "from tensorflow.keras.models import load_model\n",
    "import pickle\n",
    "import os\n",
    "import pandas as pd\n",
    "\n",
    "\n",
    "\n",
    "@st.cache(allow_output_mutation=True)\n",
    "def load_model():\n",
    "    with open(\"AdsClassificationModel.pkl\", \"rb\") as f:\n",
    "        model = pickle.load(f)\n",
    "  return model\n",
    "with st.spinner('Model is being loaded..'):\n",
    "  model=load_model()\n",
    "\n",
    "st.write(\"\"\"\n",
    "         # Facebook Ads Classification\n",
    "         \"\"\"\n",
    "         )\n",
    "\n",
    "file = st.file_uploader(\"Please upload an image\", type=[\"jpg\", \"png\"])\n",
    "import cv2\n",
    "from PIL import Image, ImageOps\n",
    "import numpy as np\n",
    "st.set_option('deprecation.showfileUploaderEncoding', False)\n",
    "class_labels = ['Success', 'Fail']  # Classes names\n",
    "def import_and_predict(image_data, model):\n",
    "    \n",
    "        size = (224,224)    \n",
    "        image = ImageOps.fit(image_data, size, Image.ANTIALIAS)\n",
    "        image = np.asarray(image)\n",
    "        img = cv2.cvtColor(image, cv2.COLOR_BGR2RGB)\n",
    "        #img_resize = (cv2.resize(img, dsize=(75, 75),    interpolation=cv2.INTER_CUBIC))/255.\n",
    "        \n",
    "        img_reshape = img[np.newaxis,...]\n",
    "    \n",
    "        prediction = model.predict(img_reshape)\n",
    "        \n",
    "        return prediction\n",
    "if file is None:\n",
    "    st.text(\"Please upload an image file\")\n",
    "else:\n",
    "    image = Image.open(file)\n",
    "    st.image(image, use_column_width=True)\n",
    "    predictions = import_and_predict(image, model)\n",
    "    score = tf.nn.softmax(predictions[0])\n",
    "    st.write(predictions)\n",
    "    st.write(score)\n",
    "    st.write(\"This image most likely belongs to {} with a {:.2f} percent confidence.\"\n",
    "    .format(class_labels[np.argmax(score)], 100 * np.max(score)))\n",
    "    print(\n",
    "    \"This image most likely belongs to {} with a {:.2f} percent confidence.\"\n",
    "    .format(class_labels[np.argmax(score)], 100 * np.max(score))\n",
    ")\n",
    "\n"
   ]
  },
  {
   "cell_type": "code",
   "execution_count": null,
   "id": "4852c824",
   "metadata": {},
   "outputs": [],
   "source": []
  }
 ],
 "metadata": {
  "kernelspec": {
   "display_name": "Python 3 (ipykernel)",
   "language": "python",
   "name": "python3"
  },
  "language_info": {
   "codemirror_mode": {
    "name": "ipython",
    "version": 3
   },
   "file_extension": ".py",
   "mimetype": "text/x-python",
   "name": "python",
   "nbconvert_exporter": "python",
   "pygments_lexer": "ipython3",
   "version": "3.10.6"
  }
 },
 "nbformat": 4,
 "nbformat_minor": 5
}
